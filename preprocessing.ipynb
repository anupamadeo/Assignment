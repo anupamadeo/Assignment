{
 "cells": [
  {
   "cell_type": "code",
   "execution_count": 34,
   "id": "cbe760d1",
   "metadata": {},
   "outputs": [],
   "source": [
    "import zipfile\n",
    "with zipfile.ZipFile('/datadisk1/mtech/Pratilipi/Pratilipi/ds-assignment.zip', 'r') as zip_ref:\n",
    "    zip_ref.extractall('/datadisk1/mtech/Pratilipi/Pratilipi/')"
   ]
  },
  {
   "cell_type": "code",
   "execution_count": 1,
   "id": "3cc0a787",
   "metadata": {},
   "outputs": [],
   "source": [
    "import numpy as np\n",
    "import pandas as pd"
   ]
  },
  {
   "cell_type": "code",
   "execution_count": 36,
   "id": "90db860f",
   "metadata": {},
   "outputs": [
    {
     "data": {
      "text/html": [
       "<div>\n",
       "<style scoped>\n",
       "    .dataframe tbody tr th:only-of-type {\n",
       "        vertical-align: middle;\n",
       "    }\n",
       "\n",
       "    .dataframe tbody tr th {\n",
       "        vertical-align: top;\n",
       "    }\n",
       "\n",
       "    .dataframe thead th {\n",
       "        text-align: right;\n",
       "    }\n",
       "</style>\n",
       "<table border=\"1\" class=\"dataframe\">\n",
       "  <thead>\n",
       "    <tr style=\"text-align: right;\">\n",
       "      <th></th>\n",
       "      <th>author_id</th>\n",
       "      <th>pratilipi_id</th>\n",
       "      <th>category_name</th>\n",
       "      <th>reading_time</th>\n",
       "      <th>updated_at</th>\n",
       "      <th>published_at</th>\n",
       "    </tr>\n",
       "  </thead>\n",
       "  <tbody>\n",
       "    <tr>\n",
       "      <th>0</th>\n",
       "      <td>-3418949279741297</td>\n",
       "      <td>1025741862639304</td>\n",
       "      <td>translation</td>\n",
       "      <td>0</td>\n",
       "      <td>2020-08-19 15:26:13</td>\n",
       "      <td>2016-09-30 10:37:04</td>\n",
       "    </tr>\n",
       "    <tr>\n",
       "      <th>1</th>\n",
       "      <td>-2270332351871840</td>\n",
       "      <td>1377786215601277</td>\n",
       "      <td>translation</td>\n",
       "      <td>171</td>\n",
       "      <td>2021-01-21 16:27:07</td>\n",
       "      <td>2018-06-11 13:17:48</td>\n",
       "    </tr>\n",
       "    <tr>\n",
       "      <th>2</th>\n",
       "      <td>-2270332352037261</td>\n",
       "      <td>1377786215601962</td>\n",
       "      <td>translation</td>\n",
       "      <td>92</td>\n",
       "      <td>2020-09-29 12:33:57</td>\n",
       "      <td>2018-06-12 04:19:12</td>\n",
       "    </tr>\n",
       "    <tr>\n",
       "      <th>3</th>\n",
       "      <td>-2270332352521845</td>\n",
       "      <td>1377786215640994</td>\n",
       "      <td>translation</td>\n",
       "      <td>0</td>\n",
       "      <td>2019-10-17 09:03:37</td>\n",
       "      <td>2019-09-26 14:58:53</td>\n",
       "    </tr>\n",
       "    <tr>\n",
       "      <th>4</th>\n",
       "      <td>-2270332349665658</td>\n",
       "      <td>1377786215931338</td>\n",
       "      <td>translation</td>\n",
       "      <td>47</td>\n",
       "      <td>2020-05-05 11:33:41</td>\n",
       "      <td>2018-11-25 12:28:23</td>\n",
       "    </tr>\n",
       "  </tbody>\n",
       "</table>\n",
       "</div>"
      ],
      "text/plain": [
       "          author_id      pratilipi_id category_name  reading_time  \\\n",
       "0 -3418949279741297  1025741862639304   translation             0   \n",
       "1 -2270332351871840  1377786215601277   translation           171   \n",
       "2 -2270332352037261  1377786215601962   translation            92   \n",
       "3 -2270332352521845  1377786215640994   translation             0   \n",
       "4 -2270332349665658  1377786215931338   translation            47   \n",
       "\n",
       "            updated_at         published_at  \n",
       "0  2020-08-19 15:26:13  2016-09-30 10:37:04  \n",
       "1  2021-01-21 16:27:07  2018-06-11 13:17:48  \n",
       "2  2020-09-29 12:33:57  2018-06-12 04:19:12  \n",
       "3  2019-10-17 09:03:37  2019-09-26 14:58:53  \n",
       "4  2020-05-05 11:33:41  2018-11-25 12:28:23  "
      ]
     },
     "execution_count": 36,
     "metadata": {},
     "output_type": "execute_result"
    }
   ],
   "source": [
    "meta = pd.read_csv('/datadisk1/mtech/Pratilipi/Pratilipi/ds-assignment/metadata.csv')\n",
    "meta.head()"
   ]
  },
  {
   "cell_type": "code",
   "execution_count": 37,
   "id": "351f98a5",
   "metadata": {},
   "outputs": [
    {
     "name": "stdout",
     "output_type": "stream",
     "text": [
      "<class 'pandas.core.frame.DataFrame'>\n",
      "RangeIndex: 954501 entries, 0 to 954500\n",
      "Data columns (total 6 columns):\n",
      " #   Column         Non-Null Count   Dtype \n",
      "---  ------         --------------   ----- \n",
      " 0   author_id      954501 non-null  int64 \n",
      " 1   pratilipi_id   954501 non-null  int64 \n",
      " 2   category_name  954501 non-null  object\n",
      " 3   reading_time   954501 non-null  int64 \n",
      " 4   updated_at     954501 non-null  object\n",
      " 5   published_at   954494 non-null  object\n",
      "dtypes: int64(3), object(3)\n",
      "memory usage: 43.7+ MB\n"
     ]
    }
   ],
   "source": [
    "meta.info()"
   ]
  },
  {
   "cell_type": "code",
   "execution_count": null,
   "id": "f71e84af",
   "metadata": {},
   "outputs": [],
   "source": []
  },
  {
   "cell_type": "code",
   "execution_count": 2,
   "id": "533058dc",
   "metadata": {},
   "outputs": [
    {
     "name": "stdout",
     "output_type": "stream",
     "text": [
      "Number of lines present:- 120405409\n"
     ]
    }
   ],
   "source": [
    "#Setting initial value of the counter to zero\n",
    "rowcount  = 0\n",
    "#iterating through the whole file\n",
    "for row in open(\"/datadisk1/mtech/Pratilipi/Pratilipi/ds-assignment/user-interactions.csv\"):\n",
    "    rowcount+= 1\n",
    "#printing the result\n",
    "print(\"Number of lines present:-\", rowcount)"
   ]
  },
  {
   "cell_type": "code",
   "execution_count": 3,
   "id": "33739813",
   "metadata": {},
   "outputs": [],
   "source": [
    "#pip install dask"
   ]
  },
  {
   "cell_type": "code",
   "execution_count": 2,
   "id": "12e9ec02",
   "metadata": {},
   "outputs": [
    {
     "data": {
      "text/html": [
       "<div>\n",
       "<style scoped>\n",
       "    .dataframe tbody tr th:only-of-type {\n",
       "        vertical-align: middle;\n",
       "    }\n",
       "\n",
       "    .dataframe tbody tr th {\n",
       "        vertical-align: top;\n",
       "    }\n",
       "\n",
       "    .dataframe thead th {\n",
       "        text-align: right;\n",
       "    }\n",
       "</style>\n",
       "<table border=\"1\" class=\"dataframe\">\n",
       "  <thead>\n",
       "    <tr style=\"text-align: right;\">\n",
       "      <th></th>\n",
       "      <th>user_id</th>\n",
       "      <th>pratilipi_id</th>\n",
       "      <th>read_percent</th>\n",
       "      <th>updated_at</th>\n",
       "    </tr>\n",
       "  </thead>\n",
       "  <tbody>\n",
       "    <tr>\n",
       "      <th>0</th>\n",
       "      <td>5506791963854965</td>\n",
       "      <td>1377786220672965</td>\n",
       "      <td>100.0</td>\n",
       "      <td>2022-03-23 00:08:26.227</td>\n",
       "    </tr>\n",
       "    <tr>\n",
       "      <th>1</th>\n",
       "      <td>5506791979071996</td>\n",
       "      <td>1377786219742624</td>\n",
       "      <td>29.0</td>\n",
       "      <td>2022-03-23 00:08:26.220</td>\n",
       "    </tr>\n",
       "    <tr>\n",
       "      <th>2</th>\n",
       "      <td>5506791980256358</td>\n",
       "      <td>1377786217096334</td>\n",
       "      <td>22.0</td>\n",
       "      <td>2022-03-23 00:08:26.020</td>\n",
       "    </tr>\n",
       "    <tr>\n",
       "      <th>3</th>\n",
       "      <td>5506791988747277</td>\n",
       "      <td>1377786224767880</td>\n",
       "      <td>100.0</td>\n",
       "      <td>2022-03-23 00:08:25.306</td>\n",
       "    </tr>\n",
       "    <tr>\n",
       "      <th>4</th>\n",
       "      <td>5506791992372558</td>\n",
       "      <td>1377786218111595</td>\n",
       "      <td>100.0</td>\n",
       "      <td>2022-03-23 00:08:25.250</td>\n",
       "    </tr>\n",
       "  </tbody>\n",
       "</table>\n",
       "</div>"
      ],
      "text/plain": [
       "            user_id      pratilipi_id  read_percent               updated_at\n",
       "0  5506791963854965  1377786220672965         100.0  2022-03-23 00:08:26.227\n",
       "1  5506791979071996  1377786219742624          29.0  2022-03-23 00:08:26.220\n",
       "2  5506791980256358  1377786217096334          22.0  2022-03-23 00:08:26.020\n",
       "3  5506791988747277  1377786224767880         100.0  2022-03-23 00:08:25.306\n",
       "4  5506791992372558  1377786218111595         100.0  2022-03-23 00:08:25.250"
      ]
     },
     "execution_count": 2,
     "metadata": {},
     "output_type": "execute_result"
    }
   ],
   "source": [
    "import dask.dataframe as dd\n",
    "\n",
    "data = dd.read_csv('/datadisk1/mtech/Pratilipi/Pratilipi/ds-assignment/user-interactions.csv')\n",
    "data.head()"
   ]
  },
  {
   "cell_type": "code",
   "execution_count": null,
   "id": "6ec31c23",
   "metadata": {},
   "outputs": [],
   "source": [
    "# No of records"
   ]
  },
  {
   "cell_type": "code",
   "execution_count": 41,
   "id": "52ce1a7b",
   "metadata": {},
   "outputs": [
    {
     "data": {
      "text/plain": [
       "120405408"
      ]
     },
     "execution_count": 41,
     "metadata": {},
     "output_type": "execute_result"
    }
   ],
   "source": [
    "data.shape[0].compute()"
   ]
  },
  {
   "cell_type": "code",
   "execution_count": null,
   "id": "6d841fa2",
   "metadata": {},
   "outputs": [],
   "source": [
    "# changing dtype of updated_at from object to datetime"
   ]
  },
  {
   "cell_type": "code",
   "execution_count": 3,
   "id": "fdca0ee2",
   "metadata": {},
   "outputs": [],
   "source": [
    "data[\"updated_at\"] = data[\"updated_at\"].map_partitions(pd.to_datetime,format='%Y-%m-%d',meta = ('datetime64[ns]'))"
   ]
  },
  {
   "cell_type": "code",
   "execution_count": 4,
   "id": "8348cca0",
   "metadata": {},
   "outputs": [
    {
     "data": {
      "text/plain": [
       "user_id                  int64\n",
       "pratilipi_id             int64\n",
       "read_percent           float64\n",
       "updated_at      datetime64[ns]\n",
       "dtype: object"
      ]
     },
     "execution_count": 4,
     "metadata": {},
     "output_type": "execute_result"
    }
   ],
   "source": [
    "data.dtypes"
   ]
  },
  {
   "cell_type": "code",
   "execution_count": null,
   "id": "01af6cd2",
   "metadata": {},
   "outputs": [],
   "source": [
    "# finding number of null values"
   ]
  },
  {
   "cell_type": "code",
   "execution_count": 7,
   "id": "b4714703",
   "metadata": {},
   "outputs": [
    {
     "data": {
      "text/plain": [
       "user_id         0\n",
       "pratilipi_id    0\n",
       "read_percent    0\n",
       "updated_at      0\n",
       "dtype: int64"
      ]
     },
     "execution_count": 7,
     "metadata": {},
     "output_type": "execute_result"
    }
   ],
   "source": [
    "data.isna().sum(axis=0).compute()"
   ]
  },
  {
   "cell_type": "code",
   "execution_count": null,
   "id": "7da045cd",
   "metadata": {},
   "outputs": [],
   "source": [
    "# making two partitions of the dataset"
   ]
  },
  {
   "cell_type": "code",
   "execution_count": 5,
   "id": "071baea7",
   "metadata": {},
   "outputs": [],
   "source": [
    "parted_df = data.repartition(npartitions=2)"
   ]
  },
  {
   "cell_type": "code",
   "execution_count": null,
   "id": "6cdd1a03",
   "metadata": {},
   "outputs": [],
   "source": [
    "#taking up half the dataset"
   ]
  },
  {
   "cell_type": "code",
   "execution_count": 8,
   "id": "e8eea1fc",
   "metadata": {},
   "outputs": [],
   "source": [
    "new_data = parted_df.partitions[0]"
   ]
  },
  {
   "cell_type": "code",
   "execution_count": 9,
   "id": "677d963b",
   "metadata": {},
   "outputs": [
    {
     "data": {
      "text/plain": [
       "Delayed('int-10a14d86-b63d-4f50-94d3-3fb0eaa12c65')"
      ]
     },
     "execution_count": 9,
     "metadata": {},
     "output_type": "execute_result"
    }
   ],
   "source": [
    "new_data.shape[0]"
   ]
  },
  {
   "cell_type": "code",
   "execution_count": 10,
   "id": "977e02a7",
   "metadata": {},
   "outputs": [
    {
     "data": {
      "text/plain": [
       "60122044"
      ]
     },
     "execution_count": 10,
     "metadata": {},
     "output_type": "execute_result"
    }
   ],
   "source": [
    "new_data.shape[0].compute()"
   ]
  },
  {
   "cell_type": "code",
   "execution_count": null,
   "id": "4fa814cb",
   "metadata": {},
   "outputs": [],
   "source": [
    "# sorting the partition by updated_at"
   ]
  },
  {
   "cell_type": "code",
   "execution_count": 11,
   "id": "5f996a68",
   "metadata": {},
   "outputs": [],
   "source": [
    "df2 = new_data.sort_values('updated_at').compute()"
   ]
  },
  {
   "cell_type": "code",
   "execution_count": 12,
   "id": "d3546e4c",
   "metadata": {},
   "outputs": [
    {
     "data": {
      "text/html": [
       "<div>\n",
       "<style scoped>\n",
       "    .dataframe tbody tr th:only-of-type {\n",
       "        vertical-align: middle;\n",
       "    }\n",
       "\n",
       "    .dataframe tbody tr th {\n",
       "        vertical-align: top;\n",
       "    }\n",
       "\n",
       "    .dataframe thead th {\n",
       "        text-align: right;\n",
       "    }\n",
       "</style>\n",
       "<table border=\"1\" class=\"dataframe\">\n",
       "  <thead>\n",
       "    <tr style=\"text-align: right;\">\n",
       "      <th></th>\n",
       "      <th>user_id</th>\n",
       "      <th>pratilipi_id</th>\n",
       "      <th>read_percent</th>\n",
       "      <th>updated_at</th>\n",
       "    </tr>\n",
       "  </thead>\n",
       "  <tbody>\n",
       "    <tr>\n",
       "      <th>1002014</th>\n",
       "      <td>5506791965571465</td>\n",
       "      <td>1377786227833301</td>\n",
       "      <td>100.0</td>\n",
       "      <td>2022-02-22 01:45:19.618</td>\n",
       "    </tr>\n",
       "    <tr>\n",
       "      <th>1002013</th>\n",
       "      <td>5506791950835946</td>\n",
       "      <td>1377786216635884</td>\n",
       "      <td>100.0</td>\n",
       "      <td>2022-02-22 01:45:19.716</td>\n",
       "    </tr>\n",
       "    <tr>\n",
       "      <th>1002012</th>\n",
       "      <td>5506791965247986</td>\n",
       "      <td>1377786225144509</td>\n",
       "      <td>100.0</td>\n",
       "      <td>2022-02-22 01:45:20.006</td>\n",
       "    </tr>\n",
       "    <tr>\n",
       "      <th>1002011</th>\n",
       "      <td>5506791987868001</td>\n",
       "      <td>1377786223485379</td>\n",
       "      <td>100.0</td>\n",
       "      <td>2022-02-22 01:45:20.137</td>\n",
       "    </tr>\n",
       "    <tr>\n",
       "      <th>1002010</th>\n",
       "      <td>5506791956649366</td>\n",
       "      <td>1377786227832251</td>\n",
       "      <td>100.0</td>\n",
       "      <td>2022-02-22 01:45:20.141</td>\n",
       "    </tr>\n",
       "  </tbody>\n",
       "</table>\n",
       "</div>"
      ],
      "text/plain": [
       "                  user_id      pratilipi_id  read_percent  \\\n",
       "1002014  5506791965571465  1377786227833301         100.0   \n",
       "1002013  5506791950835946  1377786216635884         100.0   \n",
       "1002012  5506791965247986  1377786225144509         100.0   \n",
       "1002011  5506791987868001  1377786223485379         100.0   \n",
       "1002010  5506791956649366  1377786227832251         100.0   \n",
       "\n",
       "                     updated_at  \n",
       "1002014 2022-02-22 01:45:19.618  \n",
       "1002013 2022-02-22 01:45:19.716  \n",
       "1002012 2022-02-22 01:45:20.006  \n",
       "1002011 2022-02-22 01:45:20.137  \n",
       "1002010 2022-02-22 01:45:20.141  "
      ]
     },
     "execution_count": 12,
     "metadata": {},
     "output_type": "execute_result"
    }
   ],
   "source": [
    "df2.head()"
   ]
  },
  {
   "cell_type": "code",
   "execution_count": 16,
   "id": "8fe55fb2",
   "metadata": {},
   "outputs": [
    {
     "data": {
      "text/html": [
       "<div>\n",
       "<style scoped>\n",
       "    .dataframe tbody tr th:only-of-type {\n",
       "        vertical-align: middle;\n",
       "    }\n",
       "\n",
       "    .dataframe tbody tr th {\n",
       "        vertical-align: top;\n",
       "    }\n",
       "\n",
       "    .dataframe thead th {\n",
       "        text-align: right;\n",
       "    }\n",
       "</style>\n",
       "<table border=\"1\" class=\"dataframe\">\n",
       "  <thead>\n",
       "    <tr style=\"text-align: right;\">\n",
       "      <th></th>\n",
       "      <th>user_id</th>\n",
       "      <th>pratilipi_id</th>\n",
       "      <th>read_percent</th>\n",
       "      <th>updated_at</th>\n",
       "    </tr>\n",
       "  </thead>\n",
       "  <tbody>\n",
       "    <tr>\n",
       "      <th>4</th>\n",
       "      <td>5506791992372558</td>\n",
       "      <td>1377786218111595</td>\n",
       "      <td>100.0</td>\n",
       "      <td>2022-03-23 00:08:25.250</td>\n",
       "    </tr>\n",
       "    <tr>\n",
       "      <th>3</th>\n",
       "      <td>5506791988747277</td>\n",
       "      <td>1377786224767880</td>\n",
       "      <td>100.0</td>\n",
       "      <td>2022-03-23 00:08:25.306</td>\n",
       "    </tr>\n",
       "    <tr>\n",
       "      <th>2</th>\n",
       "      <td>5506791980256358</td>\n",
       "      <td>1377786217096334</td>\n",
       "      <td>22.0</td>\n",
       "      <td>2022-03-23 00:08:26.020</td>\n",
       "    </tr>\n",
       "    <tr>\n",
       "      <th>1</th>\n",
       "      <td>5506791979071996</td>\n",
       "      <td>1377786219742624</td>\n",
       "      <td>29.0</td>\n",
       "      <td>2022-03-23 00:08:26.220</td>\n",
       "    </tr>\n",
       "    <tr>\n",
       "      <th>0</th>\n",
       "      <td>5506791963854965</td>\n",
       "      <td>1377786220672965</td>\n",
       "      <td>100.0</td>\n",
       "      <td>2022-03-23 00:08:26.227</td>\n",
       "    </tr>\n",
       "  </tbody>\n",
       "</table>\n",
       "</div>"
      ],
      "text/plain": [
       "            user_id      pratilipi_id  read_percent              updated_at\n",
       "4  5506791992372558  1377786218111595         100.0 2022-03-23 00:08:25.250\n",
       "3  5506791988747277  1377786224767880         100.0 2022-03-23 00:08:25.306\n",
       "2  5506791980256358  1377786217096334          22.0 2022-03-23 00:08:26.020\n",
       "1  5506791979071996  1377786219742624          29.0 2022-03-23 00:08:26.220\n",
       "0  5506791963854965  1377786220672965         100.0 2022-03-23 00:08:26.227"
      ]
     },
     "execution_count": 16,
     "metadata": {},
     "output_type": "execute_result"
    }
   ],
   "source": [
    "df2.tail()"
   ]
  },
  {
   "cell_type": "code",
   "execution_count": 17,
   "id": "1f5b0451",
   "metadata": {},
   "outputs": [
    {
     "data": {
      "text/plain": [
       "60122044"
      ]
     },
     "execution_count": 17,
     "metadata": {},
     "output_type": "execute_result"
    }
   ],
   "source": [
    "df2.shape[0]"
   ]
  },
  {
   "cell_type": "code",
   "execution_count": 18,
   "id": "aa83af34",
   "metadata": {},
   "outputs": [],
   "source": [
    "df2 = df2.reset_index(drop=True)"
   ]
  },
  {
   "cell_type": "code",
   "execution_count": 21,
   "id": "bb3e45c9",
   "metadata": {},
   "outputs": [
    {
     "data": {
      "text/html": [
       "<div>\n",
       "<style scoped>\n",
       "    .dataframe tbody tr th:only-of-type {\n",
       "        vertical-align: middle;\n",
       "    }\n",
       "\n",
       "    .dataframe tbody tr th {\n",
       "        vertical-align: top;\n",
       "    }\n",
       "\n",
       "    .dataframe thead th {\n",
       "        text-align: right;\n",
       "    }\n",
       "</style>\n",
       "<table border=\"1\" class=\"dataframe\">\n",
       "  <thead>\n",
       "    <tr style=\"text-align: right;\">\n",
       "      <th></th>\n",
       "      <th>user_id</th>\n",
       "      <th>pratilipi_id</th>\n",
       "      <th>read_percent</th>\n",
       "      <th>updated_at</th>\n",
       "    </tr>\n",
       "  </thead>\n",
       "  <tbody>\n",
       "    <tr>\n",
       "      <th>60122039</th>\n",
       "      <td>5506791992372558</td>\n",
       "      <td>1377786218111595</td>\n",
       "      <td>100.0</td>\n",
       "      <td>2022-03-23 00:08:25.250</td>\n",
       "    </tr>\n",
       "    <tr>\n",
       "      <th>60122040</th>\n",
       "      <td>5506791988747277</td>\n",
       "      <td>1377786224767880</td>\n",
       "      <td>100.0</td>\n",
       "      <td>2022-03-23 00:08:25.306</td>\n",
       "    </tr>\n",
       "    <tr>\n",
       "      <th>60122041</th>\n",
       "      <td>5506791980256358</td>\n",
       "      <td>1377786217096334</td>\n",
       "      <td>22.0</td>\n",
       "      <td>2022-03-23 00:08:26.020</td>\n",
       "    </tr>\n",
       "    <tr>\n",
       "      <th>60122042</th>\n",
       "      <td>5506791979071996</td>\n",
       "      <td>1377786219742624</td>\n",
       "      <td>29.0</td>\n",
       "      <td>2022-03-23 00:08:26.220</td>\n",
       "    </tr>\n",
       "    <tr>\n",
       "      <th>60122043</th>\n",
       "      <td>5506791963854965</td>\n",
       "      <td>1377786220672965</td>\n",
       "      <td>100.0</td>\n",
       "      <td>2022-03-23 00:08:26.227</td>\n",
       "    </tr>\n",
       "  </tbody>\n",
       "</table>\n",
       "</div>"
      ],
      "text/plain": [
       "                   user_id      pratilipi_id  read_percent  \\\n",
       "60122039  5506791992372558  1377786218111595         100.0   \n",
       "60122040  5506791988747277  1377786224767880         100.0   \n",
       "60122041  5506791980256358  1377786217096334          22.0   \n",
       "60122042  5506791979071996  1377786219742624          29.0   \n",
       "60122043  5506791963854965  1377786220672965         100.0   \n",
       "\n",
       "                      updated_at  \n",
       "60122039 2022-03-23 00:08:25.250  \n",
       "60122040 2022-03-23 00:08:25.306  \n",
       "60122041 2022-03-23 00:08:26.020  \n",
       "60122042 2022-03-23 00:08:26.220  \n",
       "60122043 2022-03-23 00:08:26.227  "
      ]
     },
     "execution_count": 21,
     "metadata": {},
     "output_type": "execute_result"
    }
   ],
   "source": [
    "df2.tail()"
   ]
  },
  {
   "cell_type": "code",
   "execution_count": null,
   "id": "66fd8607",
   "metadata": {},
   "outputs": [],
   "source": [
    "# saving the dataframe for further use"
   ]
  },
  {
   "cell_type": "code",
   "execution_count": 15,
   "id": "cd0ecdee",
   "metadata": {},
   "outputs": [],
   "source": [
    "df2.to_csv('data.csv')"
   ]
  },
  {
   "cell_type": "code",
   "execution_count": 23,
   "id": "fb489a4a",
   "metadata": {},
   "outputs": [
    {
     "name": "stdout",
     "output_type": "stream",
     "text": [
      "<class 'pandas.core.frame.DataFrame'>\n",
      "Int64Index: 13171504 entries, 144359 to 0\n",
      "Data columns (total 3 columns):\n",
      " #   Column        Dtype  \n",
      "---  ------        -----  \n",
      " 0   user_id       int64  \n",
      " 1   pratilipi_id  int64  \n",
      " 2   read_percent  float64\n",
      "dtypes: float64(1), int64(2)\n",
      "memory usage: 402.0 MB\n"
     ]
    }
   ],
   "source": [
    "pandas_data.info()"
   ]
  },
  {
   "cell_type": "code",
   "execution_count": 22,
   "id": "044bec6c",
   "metadata": {},
   "outputs": [
    {
     "data": {
      "text/plain": [
       "user_id         0\n",
       "pratilipi_id    0\n",
       "read_percent    0\n",
       "updated_at      0\n",
       "dtype: int64"
      ]
     },
     "execution_count": 22,
     "metadata": {},
     "output_type": "execute_result"
    }
   ],
   "source": [
    "df2.isnull().sum()"
   ]
  },
  {
   "cell_type": "code",
   "execution_count": 23,
   "id": "96744dd9",
   "metadata": {},
   "outputs": [
    {
     "name": "stdout",
     "output_type": "stream",
     "text": [
      "<class 'pandas.core.frame.DataFrame'>\n",
      "RangeIndex: 60122044 entries, 0 to 60122043\n",
      "Data columns (total 4 columns):\n",
      " #   Column        Dtype         \n",
      "---  ------        -----         \n",
      " 0   user_id       int64         \n",
      " 1   pratilipi_id  int64         \n",
      " 2   read_percent  float64       \n",
      " 3   updated_at    datetime64[ns]\n",
      "dtypes: datetime64[ns](1), float64(1), int64(2)\n",
      "memory usage: 1.8 GB\n"
     ]
    }
   ],
   "source": [
    "df2.info()"
   ]
  },
  {
   "cell_type": "code",
   "execution_count": null,
   "id": "5a3a2ac4",
   "metadata": {},
   "outputs": [],
   "source": []
  }
 ],
 "metadata": {
  "kernelspec": {
   "display_name": "Python 3",
   "language": "python",
   "name": "python3"
  },
  "language_info": {
   "codemirror_mode": {
    "name": "ipython",
    "version": 3
   },
   "file_extension": ".py",
   "mimetype": "text/x-python",
   "name": "python",
   "nbconvert_exporter": "python",
   "pygments_lexer": "ipython3",
   "version": "3.8.8"
  }
 },
 "nbformat": 4,
 "nbformat_minor": 5
}
