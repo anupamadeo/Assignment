{
 "cells": [
  {
   "cell_type": "code",
   "execution_count": null,
   "id": "7a9df343",
   "metadata": {},
   "outputs": [],
   "source": [
    "# importing required package\n",
    "# surprise package for user item recommendation"
   ]
  },
  {
   "cell_type": "code",
   "execution_count": 2,
   "id": "19d890e8",
   "metadata": {},
   "outputs": [],
   "source": [
    "import pandas as pd\n",
    "import numpy as np\n",
    "from surprise import SVD,KNNWithMeans\n",
    "from surprise import Dataset\n",
    "from surprise import accuracy\n",
    "from surprise.model_selection import cross_validate\n",
    "from surprise import Reader, Dataset\n",
    "from surprise.model_selection import KFold,train_test_split"
   ]
  },
  {
   "cell_type": "code",
   "execution_count": null,
   "id": "8eb6a5da",
   "metadata": {},
   "outputs": [],
   "source": [
    "#pip install scikit-surprise"
   ]
  },
  {
   "cell_type": "code",
   "execution_count": null,
   "id": "73a2d27c",
   "metadata": {},
   "outputs": [],
   "source": [
    "## building model"
   ]
  },
  {
   "cell_type": "code",
   "execution_count": 3,
   "id": "fccd4e4e",
   "metadata": {},
   "outputs": [
    {
     "name": "stdout",
     "output_type": "stream",
     "text": [
      "RMSE: 1.0539\n",
      "RMSE: 1.0234\n",
      "RMSE: 1.0210\n",
      "RMSE: 1.0092\n",
      "RMSE: 1.0121\n",
      "RMSE: 1.1337\n"
     ]
    }
   ],
   "source": [
    "chunksize = 45091532//4\n",
    "reader = Reader(rating_scale=(0.0, 5.0))\n",
    "for chunk in pd.read_csv('data.csv', chunksize=chunksize):\n",
    "    chunk['read_percent'] = chunk['read_percent'].apply(lambda x: x/20)\n",
    "\n",
    "    \n",
    "    \n",
    "    \n",
    "    data = Dataset.load_from_df(chunk[['user_id', 'pratilipi_id', 'read_percent']], reader)\n",
    "    algo = SVD()\n",
    "    \n",
    "    trainset, testset = train_test_split(data,test_size=0.25,random_state=None,shuffle=False)\n",
    " \n",
    "    \n",
    "\n",
    "    algo.fit(trainset)\n",
    "    predictions = algo.test(testset)\n",
    "\n",
    "    # Compute and print Root Mean Squared Error\n",
    "    accuracy.rmse(predictions, verbose=True)\n",
    "\n",
    "   \n",
    "\n",
    "    \n",
    "    "
   ]
  },
  {
   "cell_type": "code",
   "execution_count": null,
   "id": "6065b658",
   "metadata": {},
   "outputs": [],
   "source": []
  },
  {
   "cell_type": "code",
   "execution_count": null,
   "id": "42522ffd",
   "metadata": {},
   "outputs": [],
   "source": []
  }
 ],
 "metadata": {
  "kernelspec": {
   "display_name": "Python 3",
   "language": "python",
   "name": "python3"
  },
  "language_info": {
   "codemirror_mode": {
    "name": "ipython",
    "version": 3
   },
   "file_extension": ".py",
   "mimetype": "text/x-python",
   "name": "python",
   "nbconvert_exporter": "python",
   "pygments_lexer": "ipython3",
   "version": "3.8.8"
  }
 },
 "nbformat": 4,
 "nbformat_minor": 5
}
